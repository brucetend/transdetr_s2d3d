{
 "cells": [
  {
   "cell_type": "code",
   "execution_count": 1,
   "id": "e00abf90",
   "metadata": {},
   "outputs": [],
   "source": [
    "import torch"
   ]
  },
  {
   "cell_type": "code",
   "execution_count": 2,
   "id": "59528237",
   "metadata": {},
   "outputs": [],
   "source": [
    "H, W = 200, 200"
   ]
  },
  {
   "cell_type": "code",
   "execution_count": 6,
   "id": "c697bf16",
   "metadata": {},
   "outputs": [],
   "source": [
    "Z = 8\n",
    "dtype = torch.float"
   ]
  },
  {
   "cell_type": "code",
   "execution_count": 7,
   "id": "8ad7f829",
   "metadata": {},
   "outputs": [
    {
     "data": {
      "text/plain": [
       "torch.Size([4, 200, 200])"
      ]
     },
     "execution_count": 7,
     "metadata": {},
     "output_type": "execute_result"
    }
   ],
   "source": [
    "zs = torch.linspace(0.5, Z - 0.5, 4, dtype=dtype).view(-1, 1, 1).expand(4, H, W) / Z\n",
    "zs.shape"
   ]
  },
  {
   "cell_type": "code",
   "execution_count": null,
   "id": "4f8d5f08",
   "metadata": {},
   "outputs": [],
   "source": []
  },
  {
   "cell_type": "code",
   "execution_count": 8,
   "id": "3d33847e",
   "metadata": {},
   "outputs": [
    {
     "data": {
      "text/plain": [
       "torch.Size([4, 200, 200])"
      ]
     },
     "execution_count": 8,
     "metadata": {},
     "output_type": "execute_result"
    }
   ],
   "source": [
    "xs = torch.linspace(0.5, W - 0.5, W, dtype=dtype).view(1, 1, W).expand(4, H, W) / W\n",
    "xs.shape"
   ]
  },
  {
   "cell_type": "code",
   "execution_count": 9,
   "id": "a1090a46",
   "metadata": {},
   "outputs": [
    {
     "data": {
      "text/plain": [
       "torch.Size([4, 200, 200])"
      ]
     },
     "execution_count": 9,
     "metadata": {},
     "output_type": "execute_result"
    }
   ],
   "source": [
    "ys = torch.linspace(0.5, H - 0.5, H, dtype=dtype).view(1, H, 1).expand(4, H, W) / H\n",
    "ys.shape"
   ]
  },
  {
   "cell_type": "code",
   "execution_count": 10,
   "id": "f0bd3c48",
   "metadata": {},
   "outputs": [
    {
     "data": {
      "text/plain": [
       "torch.Size([4, 200, 200, 3])"
      ]
     },
     "execution_count": 10,
     "metadata": {},
     "output_type": "execute_result"
    }
   ],
   "source": [
    "ref_3d = torch.stack((xs, ys, zs), -1)\n",
    "ref_3d.shape"
   ]
  },
  {
   "cell_type": "code",
   "execution_count": 11,
   "id": "278d5f96",
   "metadata": {},
   "outputs": [
    {
     "data": {
      "text/plain": [
       "torch.Size([4, 40000, 3])"
      ]
     },
     "execution_count": 11,
     "metadata": {},
     "output_type": "execute_result"
    }
   ],
   "source": [
    "ref_3d = ref_3d.permute(0, 3, 1, 2).flatten(2).permute(0, 2, 1)\n",
    "ref_3d.shape"
   ]
  },
  {
   "cell_type": "code",
   "execution_count": null,
   "id": "c6420639",
   "metadata": {},
   "outputs": [],
   "source": []
  },
  {
   "cell_type": "code",
   "execution_count": 12,
   "id": "2e5a8e6e",
   "metadata": {},
   "outputs": [
    {
     "data": {
      "text/plain": [
       "torch.Size([2, 4, 40000, 3])"
      ]
     },
     "execution_count": 12,
     "metadata": {},
     "output_type": "execute_result"
    }
   ],
   "source": [
    "ref_3d = ref_3d[None].repeat(2, 1, 1, 1).size()\n",
    "ref_3d"
   ]
  },
  {
   "cell_type": "code",
   "execution_count": null,
   "id": "afe2f300",
   "metadata": {},
   "outputs": [],
   "source": []
  },
  {
   "cell_type": "code",
   "execution_count": null,
   "id": "0acbde72",
   "metadata": {},
   "outputs": [],
   "source": []
  },
  {
   "cell_type": "code",
   "execution_count": 105,
   "id": "6431b351",
   "metadata": {},
   "outputs": [
    {
     "data": {
      "text/plain": [
       "torch.Size([250, 300])"
      ]
     },
     "execution_count": 105,
     "metadata": {},
     "output_type": "execute_result"
    }
   ],
   "source": [
    "ref_y, ref_x = torch.meshgrid(\n",
    "                torch.linspace(\n",
    "                    0.5, H - 0.5, H, dtype=dtype),\n",
    "                torch.linspace(\n",
    "                    0.5, W - 0.5, W, dtype=dtype)\n",
    "            )\n",
    "ref_y.shape"
   ]
  },
  {
   "cell_type": "code",
   "execution_count": 110,
   "id": "d5929822",
   "metadata": {},
   "outputs": [
    {
     "name": "stdout",
     "output_type": "stream",
     "text": [
      "ref_y, ref_x: torch.Size([1, 75000]) torch.Size([1, 75000])\n"
     ]
    }
   ],
   "source": [
    "bs = 2\n",
    "ref_y = ref_y.reshape(-1)[None] / H\n",
    "ref_x = ref_x.reshape(-1)[None] / W\n",
    "print('ref_y, ref_x:', ref_y.size(), ref_x.size())"
   ]
  },
  {
   "cell_type": "code",
   "execution_count": 116,
   "id": "23bb374c",
   "metadata": {},
   "outputs": [
    {
     "name": "stdout",
     "output_type": "stream",
     "text": [
      "torch.Size([1, 75000, 2])\n"
     ]
    },
    {
     "data": {
      "text/plain": [
       "torch.Size([2, 75000, 1, 2])"
      ]
     },
     "execution_count": 116,
     "metadata": {},
     "output_type": "execute_result"
    }
   ],
   "source": [
    "ref_2d = torch.stack((ref_x, ref_y), -1)\n",
    "print(ref_2d.size())\n",
    "ref_2d = ref_2d.repeat(bs, 1, 1).unsqueeze(2)\n",
    "ref_2d.size() ##### shape (bs, num_keys, num_levels, 2).\n"
   ]
  },
  {
   "cell_type": "code",
   "execution_count": 108,
   "id": "444942ba",
   "metadata": {},
   "outputs": [
    {
     "data": {
      "text/plain": [
       "torch.Size([2, 75000, 1, 2])"
      ]
     },
     "execution_count": 108,
     "metadata": {},
     "output_type": "execute_result"
    }
   ],
   "source": [
    "ref_2d.shape"
   ]
  },
  {
   "cell_type": "code",
   "execution_count": null,
   "id": "0ad6bed1",
   "metadata": {},
   "outputs": [],
   "source": []
  },
  {
   "cell_type": "code",
   "execution_count": 30,
   "id": "74ee1bdd",
   "metadata": {},
   "outputs": [],
   "source": [
    "tensor1 = torch.randn(4,2,6,40001, 9,1)\n",
    "tensor2 = torch.randn(4,2,6,40001, 5,9)"
   ]
  },
  {
   "cell_type": "code",
   "execution_count": 31,
   "id": "206a0520",
   "metadata": {},
   "outputs": [],
   "source": [
    "tensor3 = torch.matmul(tensor2, tensor1)"
   ]
  },
  {
   "cell_type": "code",
   "execution_count": 32,
   "id": "8734e883",
   "metadata": {},
   "outputs": [
    {
     "data": {
      "text/plain": [
       "torch.Size([4, 2, 6, 40001, 5, 1])"
      ]
     },
     "execution_count": 32,
     "metadata": {},
     "output_type": "execute_result"
    }
   ],
   "source": [
    "tensor3.size()"
   ]
  },
  {
   "cell_type": "code",
   "execution_count": null,
   "id": "ec3e836f",
   "metadata": {},
   "outputs": [],
   "source": []
  },
  {
   "cell_type": "code",
   "execution_count": null,
   "id": "d48598bc",
   "metadata": {},
   "outputs": [],
   "source": []
  },
  {
   "cell_type": "code",
   "execution_count": null,
   "id": "db1a04bf",
   "metadata": {},
   "outputs": [],
   "source": []
  },
  {
   "cell_type": "code",
   "execution_count": 5,
   "id": "edde04c0",
   "metadata": {},
   "outputs": [
    {
     "name": "stdout",
     "output_type": "stream",
     "text": [
      "a = torch.Size([8, 4, 5, 6])\n",
      "b = torch.Size([8, 4, 5, 6])\n",
      "c = torch.Size([8, 4, 5, 6])\n"
     ]
    }
   ],
   "source": [
    "a = torch.ones([8, 4, 5, 6])\n",
    "print('a =',a.size())\n",
    "b = torch.ones([8, 4, 5, 6])\n",
    "print('b =',b.size())\n",
    "c = a+b\n",
    "print('c =',c.size())"
   ]
  },
  {
   "cell_type": "code",
   "execution_count": 7,
   "id": "93e6e13e",
   "metadata": {},
   "outputs": [
    {
     "data": {
      "text/plain": [
       "tensor([[[[2., 2., 2., 2., 2., 2.],\n",
       "          [2., 2., 2., 2., 2., 2.],\n",
       "          [2., 2., 2., 2., 2., 2.],\n",
       "          [2., 2., 2., 2., 2., 2.],\n",
       "          [2., 2., 2., 2., 2., 2.]],\n",
       "\n",
       "         [[2., 2., 2., 2., 2., 2.],\n",
       "          [2., 2., 2., 2., 2., 2.],\n",
       "          [2., 2., 2., 2., 2., 2.],\n",
       "          [2., 2., 2., 2., 2., 2.],\n",
       "          [2., 2., 2., 2., 2., 2.]],\n",
       "\n",
       "         [[2., 2., 2., 2., 2., 2.],\n",
       "          [2., 2., 2., 2., 2., 2.],\n",
       "          [2., 2., 2., 2., 2., 2.],\n",
       "          [2., 2., 2., 2., 2., 2.],\n",
       "          [2., 2., 2., 2., 2., 2.]],\n",
       "\n",
       "         [[2., 2., 2., 2., 2., 2.],\n",
       "          [2., 2., 2., 2., 2., 2.],\n",
       "          [2., 2., 2., 2., 2., 2.],\n",
       "          [2., 2., 2., 2., 2., 2.],\n",
       "          [2., 2., 2., 2., 2., 2.]]],\n",
       "\n",
       "\n",
       "        [[[2., 2., 2., 2., 2., 2.],\n",
       "          [2., 2., 2., 2., 2., 2.],\n",
       "          [2., 2., 2., 2., 2., 2.],\n",
       "          [2., 2., 2., 2., 2., 2.],\n",
       "          [2., 2., 2., 2., 2., 2.]],\n",
       "\n",
       "         [[2., 2., 2., 2., 2., 2.],\n",
       "          [2., 2., 2., 2., 2., 2.],\n",
       "          [2., 2., 2., 2., 2., 2.],\n",
       "          [2., 2., 2., 2., 2., 2.],\n",
       "          [2., 2., 2., 2., 2., 2.]],\n",
       "\n",
       "         [[2., 2., 2., 2., 2., 2.],\n",
       "          [2., 2., 2., 2., 2., 2.],\n",
       "          [2., 2., 2., 2., 2., 2.],\n",
       "          [2., 2., 2., 2., 2., 2.],\n",
       "          [2., 2., 2., 2., 2., 2.]],\n",
       "\n",
       "         [[2., 2., 2., 2., 2., 2.],\n",
       "          [2., 2., 2., 2., 2., 2.],\n",
       "          [2., 2., 2., 2., 2., 2.],\n",
       "          [2., 2., 2., 2., 2., 2.],\n",
       "          [2., 2., 2., 2., 2., 2.]]],\n",
       "\n",
       "\n",
       "        [[[2., 2., 2., 2., 2., 2.],\n",
       "          [2., 2., 2., 2., 2., 2.],\n",
       "          [2., 2., 2., 2., 2., 2.],\n",
       "          [2., 2., 2., 2., 2., 2.],\n",
       "          [2., 2., 2., 2., 2., 2.]],\n",
       "\n",
       "         [[2., 2., 2., 2., 2., 2.],\n",
       "          [2., 2., 2., 2., 2., 2.],\n",
       "          [2., 2., 2., 2., 2., 2.],\n",
       "          [2., 2., 2., 2., 2., 2.],\n",
       "          [2., 2., 2., 2., 2., 2.]],\n",
       "\n",
       "         [[2., 2., 2., 2., 2., 2.],\n",
       "          [2., 2., 2., 2., 2., 2.],\n",
       "          [2., 2., 2., 2., 2., 2.],\n",
       "          [2., 2., 2., 2., 2., 2.],\n",
       "          [2., 2., 2., 2., 2., 2.]],\n",
       "\n",
       "         [[2., 2., 2., 2., 2., 2.],\n",
       "          [2., 2., 2., 2., 2., 2.],\n",
       "          [2., 2., 2., 2., 2., 2.],\n",
       "          [2., 2., 2., 2., 2., 2.],\n",
       "          [2., 2., 2., 2., 2., 2.]]],\n",
       "\n",
       "\n",
       "        [[[2., 2., 2., 2., 2., 2.],\n",
       "          [2., 2., 2., 2., 2., 2.],\n",
       "          [2., 2., 2., 2., 2., 2.],\n",
       "          [2., 2., 2., 2., 2., 2.],\n",
       "          [2., 2., 2., 2., 2., 2.]],\n",
       "\n",
       "         [[2., 2., 2., 2., 2., 2.],\n",
       "          [2., 2., 2., 2., 2., 2.],\n",
       "          [2., 2., 2., 2., 2., 2.],\n",
       "          [2., 2., 2., 2., 2., 2.],\n",
       "          [2., 2., 2., 2., 2., 2.]],\n",
       "\n",
       "         [[2., 2., 2., 2., 2., 2.],\n",
       "          [2., 2., 2., 2., 2., 2.],\n",
       "          [2., 2., 2., 2., 2., 2.],\n",
       "          [2., 2., 2., 2., 2., 2.],\n",
       "          [2., 2., 2., 2., 2., 2.]],\n",
       "\n",
       "         [[2., 2., 2., 2., 2., 2.],\n",
       "          [2., 2., 2., 2., 2., 2.],\n",
       "          [2., 2., 2., 2., 2., 2.],\n",
       "          [2., 2., 2., 2., 2., 2.],\n",
       "          [2., 2., 2., 2., 2., 2.]]],\n",
       "\n",
       "\n",
       "        [[[2., 2., 2., 2., 2., 2.],\n",
       "          [2., 2., 2., 2., 2., 2.],\n",
       "          [2., 2., 2., 2., 2., 2.],\n",
       "          [2., 2., 2., 2., 2., 2.],\n",
       "          [2., 2., 2., 2., 2., 2.]],\n",
       "\n",
       "         [[2., 2., 2., 2., 2., 2.],\n",
       "          [2., 2., 2., 2., 2., 2.],\n",
       "          [2., 2., 2., 2., 2., 2.],\n",
       "          [2., 2., 2., 2., 2., 2.],\n",
       "          [2., 2., 2., 2., 2., 2.]],\n",
       "\n",
       "         [[2., 2., 2., 2., 2., 2.],\n",
       "          [2., 2., 2., 2., 2., 2.],\n",
       "          [2., 2., 2., 2., 2., 2.],\n",
       "          [2., 2., 2., 2., 2., 2.],\n",
       "          [2., 2., 2., 2., 2., 2.]],\n",
       "\n",
       "         [[2., 2., 2., 2., 2., 2.],\n",
       "          [2., 2., 2., 2., 2., 2.],\n",
       "          [2., 2., 2., 2., 2., 2.],\n",
       "          [2., 2., 2., 2., 2., 2.],\n",
       "          [2., 2., 2., 2., 2., 2.]]],\n",
       "\n",
       "\n",
       "        [[[2., 2., 2., 2., 2., 2.],\n",
       "          [2., 2., 2., 2., 2., 2.],\n",
       "          [2., 2., 2., 2., 2., 2.],\n",
       "          [2., 2., 2., 2., 2., 2.],\n",
       "          [2., 2., 2., 2., 2., 2.]],\n",
       "\n",
       "         [[2., 2., 2., 2., 2., 2.],\n",
       "          [2., 2., 2., 2., 2., 2.],\n",
       "          [2., 2., 2., 2., 2., 2.],\n",
       "          [2., 2., 2., 2., 2., 2.],\n",
       "          [2., 2., 2., 2., 2., 2.]],\n",
       "\n",
       "         [[2., 2., 2., 2., 2., 2.],\n",
       "          [2., 2., 2., 2., 2., 2.],\n",
       "          [2., 2., 2., 2., 2., 2.],\n",
       "          [2., 2., 2., 2., 2., 2.],\n",
       "          [2., 2., 2., 2., 2., 2.]],\n",
       "\n",
       "         [[2., 2., 2., 2., 2., 2.],\n",
       "          [2., 2., 2., 2., 2., 2.],\n",
       "          [2., 2., 2., 2., 2., 2.],\n",
       "          [2., 2., 2., 2., 2., 2.],\n",
       "          [2., 2., 2., 2., 2., 2.]]],\n",
       "\n",
       "\n",
       "        [[[2., 2., 2., 2., 2., 2.],\n",
       "          [2., 2., 2., 2., 2., 2.],\n",
       "          [2., 2., 2., 2., 2., 2.],\n",
       "          [2., 2., 2., 2., 2., 2.],\n",
       "          [2., 2., 2., 2., 2., 2.]],\n",
       "\n",
       "         [[2., 2., 2., 2., 2., 2.],\n",
       "          [2., 2., 2., 2., 2., 2.],\n",
       "          [2., 2., 2., 2., 2., 2.],\n",
       "          [2., 2., 2., 2., 2., 2.],\n",
       "          [2., 2., 2., 2., 2., 2.]],\n",
       "\n",
       "         [[2., 2., 2., 2., 2., 2.],\n",
       "          [2., 2., 2., 2., 2., 2.],\n",
       "          [2., 2., 2., 2., 2., 2.],\n",
       "          [2., 2., 2., 2., 2., 2.],\n",
       "          [2., 2., 2., 2., 2., 2.]],\n",
       "\n",
       "         [[2., 2., 2., 2., 2., 2.],\n",
       "          [2., 2., 2., 2., 2., 2.],\n",
       "          [2., 2., 2., 2., 2., 2.],\n",
       "          [2., 2., 2., 2., 2., 2.],\n",
       "          [2., 2., 2., 2., 2., 2.]]],\n",
       "\n",
       "\n",
       "        [[[2., 2., 2., 2., 2., 2.],\n",
       "          [2., 2., 2., 2., 2., 2.],\n",
       "          [2., 2., 2., 2., 2., 2.],\n",
       "          [2., 2., 2., 2., 2., 2.],\n",
       "          [2., 2., 2., 2., 2., 2.]],\n",
       "\n",
       "         [[2., 2., 2., 2., 2., 2.],\n",
       "          [2., 2., 2., 2., 2., 2.],\n",
       "          [2., 2., 2., 2., 2., 2.],\n",
       "          [2., 2., 2., 2., 2., 2.],\n",
       "          [2., 2., 2., 2., 2., 2.]],\n",
       "\n",
       "         [[2., 2., 2., 2., 2., 2.],\n",
       "          [2., 2., 2., 2., 2., 2.],\n",
       "          [2., 2., 2., 2., 2., 2.],\n",
       "          [2., 2., 2., 2., 2., 2.],\n",
       "          [2., 2., 2., 2., 2., 2.]],\n",
       "\n",
       "         [[2., 2., 2., 2., 2., 2.],\n",
       "          [2., 2., 2., 2., 2., 2.],\n",
       "          [2., 2., 2., 2., 2., 2.],\n",
       "          [2., 2., 2., 2., 2., 2.],\n",
       "          [2., 2., 2., 2., 2., 2.]]]])"
      ]
     },
     "execution_count": 7,
     "metadata": {},
     "output_type": "execute_result"
    }
   ],
   "source": [
    "c"
   ]
  },
  {
   "cell_type": "code",
   "execution_count": 1,
   "id": "bedd7e1d",
   "metadata": {},
   "outputs": [],
   "source": [
    "###测试attenion_weights\n"
   ]
  },
  {
   "cell_type": "code",
   "execution_count": 1,
   "id": "5c46cd46",
   "metadata": {},
   "outputs": [],
   "source": [
    "import torch\n",
    "num_head = 8\n",
    "dim = 256\n",
    "num_value = 30825\n",
    "a = torch.randn(6, num_value, num_head, dim//num_head)\n",
    "b = torch.randn(6, num_value, num_head, dim//num_head)\n",
    "c = torch.randn(6, num_value, num_head, dim//num_head)\n",
    "d = torch.randn(6, num_value, num_head, dim//num_head)\n",
    "\n"
   ]
  },
  {
   "cell_type": "code",
   "execution_count": 4,
   "id": "9ff6b6c6",
   "metadata": {},
   "outputs": [
    {
     "data": {
      "text/plain": [
       "torch.Size([6, 30825, 8, 4, 32])"
      ]
     },
     "execution_count": 4,
     "metadata": {},
     "output_type": "execute_result"
    }
   ],
   "source": [
    "eee = torch.stack([a,b,c,d], dim = -2)\n",
    "eee.size()"
   ]
  },
  {
   "cell_type": "code",
   "execution_count": 40,
   "id": "8bb473ed",
   "metadata": {},
   "outputs": [
    {
     "data": {
      "text/plain": [
       "torch.Size([6, 30825, 8, 4])"
      ]
     },
     "execution_count": 40,
     "metadata": {},
     "output_type": "execute_result"
    }
   ],
   "source": [
    "eee.sum(-1).size()"
   ]
  },
  {
   "cell_type": "code",
   "execution_count": 37,
   "id": "0d34e8fd",
   "metadata": {},
   "outputs": [
    {
     "data": {
      "text/plain": [
       "torch.Size([6, 30825, 8, 128])"
      ]
     },
     "execution_count": 37,
     "metadata": {},
     "output_type": "execute_result"
    }
   ],
   "source": []
  },
  {
   "cell_type": "code",
   "execution_count": null,
   "id": "816e4aac",
   "metadata": {},
   "outputs": [],
   "source": []
  },
  {
   "cell_type": "code",
   "execution_count": null,
   "id": "3cd27a58",
   "metadata": {},
   "outputs": [],
   "source": []
  },
  {
   "cell_type": "code",
   "execution_count": 36,
   "id": "3cc30e41",
   "metadata": {},
   "outputs": [
    {
     "data": {
      "text/plain": [
       "torch.Size([6, 30825, 8, 128])"
      ]
     },
     "execution_count": 36,
     "metadata": {},
     "output_type": "execute_result"
    }
   ],
   "source": []
  },
  {
   "cell_type": "code",
   "execution_count": 13,
   "id": "65b2a927",
   "metadata": {},
   "outputs": [],
   "source": [
    "attention = torch.randn([48, 1, 9675, 32])"
   ]
  },
  {
   "cell_type": "code",
   "execution_count": 14,
   "id": "efcb5d05",
   "metadata": {},
   "outputs": [],
   "source": [
    "sampling_value_list = torch.randn([48, 32, 9675, 32])"
   ]
  },
  {
   "cell_type": "code",
   "execution_count": 15,
   "id": "29827ec7",
   "metadata": {},
   "outputs": [],
   "source": [
    "output = sampling_value_list * attention"
   ]
  },
  {
   "cell_type": "code",
   "execution_count": 52,
   "id": "6e01e5d4",
   "metadata": {},
   "outputs": [
    {
     "data": {
      "text/plain": [
       "torch.Size([48, 32, 9675])"
      ]
     },
     "execution_count": 52,
     "metadata": {},
     "output_type": "execute_result"
    }
   ],
   "source": [
    "output.sum(-1).size()"
   ]
  },
  {
   "cell_type": "code",
   "execution_count": 26,
   "id": "2853cbe4",
   "metadata": {},
   "outputs": [
    {
     "data": {
      "text/plain": [
       "torch.Size([2, 2])"
      ]
     },
     "execution_count": 26,
     "metadata": {},
     "output_type": "execute_result"
    }
   ],
   "source": [
    "a = torch.tensor([[1, 2], [2, 3]])\n",
    "a.size()"
   ]
  },
  {
   "cell_type": "code",
   "execution_count": 25,
   "id": "f7e940ca",
   "metadata": {},
   "outputs": [
    {
     "data": {
      "text/plain": [
       "tensor([[[ 1,  2],\n",
       "         [ 2,  3]],\n",
       "\n",
       "        [[-1, -2],\n",
       "         [-2, -3]]])"
      ]
     },
     "execution_count": 25,
     "metadata": {},
     "output_type": "execute_result"
    }
   ],
   "source": [
    "b = torch.tensor([[[1,2],[2,3]],[[-1,-2],[-2,-3]]])\n",
    "b"
   ]
  },
  {
   "cell_type": "code",
   "execution_count": 21,
   "id": "518dba57",
   "metadata": {},
   "outputs": [
    {
     "data": {
      "text/plain": [
       "tensor([[[ 1,  4],\n",
       "         [ 4,  9]],\n",
       "\n",
       "        [[-1, -4],\n",
       "         [-4, -9]]])"
      ]
     },
     "execution_count": 21,
     "metadata": {},
     "output_type": "execute_result"
    }
   ],
   "source": [
    "c = a * b\n",
    "c"
   ]
  },
  {
   "cell_type": "code",
   "execution_count": 30,
   "id": "f2854f6c",
   "metadata": {},
   "outputs": [
    {
     "data": {
      "text/plain": [
       "(torch.Size([2, 2, 2]), torch.Size([2, 2, 2]))"
      ]
     },
     "execution_count": 30,
     "metadata": {},
     "output_type": "execute_result"
    }
   ],
   "source": [
    "a = torch.tensor([[[1, 2], [2, 3]], [[-1, -2], [-2, -3]]])\n",
    "b = torch.tensor([[[1,2],[2,3]],[[-1,-2],[-2,-3]]])\n",
    "a.size(), b.size()"
   ]
  },
  {
   "cell_type": "code",
   "execution_count": 28,
   "id": "b1ec1d4d",
   "metadata": {},
   "outputs": [
    {
     "data": {
      "text/plain": [
       "tensor([[[ 1,  4],\n",
       "         [ 4,  9]],\n",
       "\n",
       "        [[-1, -4],\n",
       "         [-4, -9]]])"
      ]
     },
     "execution_count": 28,
     "metadata": {},
     "output_type": "execute_result"
    }
   ],
   "source": [
    "d = a * b\n",
    "d"
   ]
  },
  {
   "cell_type": "code",
   "execution_count": null,
   "id": "fde5e3f5",
   "metadata": {},
   "outputs": [],
   "source": []
  }
 ],
 "metadata": {
  "kernelspec": {
   "display_name": "Python 3 (ipykernel)",
   "language": "python",
   "name": "python3"
  },
  "language_info": {
   "codemirror_mode": {
    "name": "ipython",
    "version": 3
   },
   "file_extension": ".py",
   "mimetype": "text/x-python",
   "name": "python",
   "nbconvert_exporter": "python",
   "pygments_lexer": "ipython3",
   "version": "3.8.13"
  }
 },
 "nbformat": 4,
 "nbformat_minor": 5
}
